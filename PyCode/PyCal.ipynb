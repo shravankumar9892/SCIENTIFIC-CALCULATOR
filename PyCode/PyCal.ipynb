{
 "cells": [
  {
   "cell_type": "code",
   "execution_count": 2,
   "metadata": {},
   "outputs": [
    {
     "ename": "ImportError",
     "evalue": "No module named panda",
     "output_type": "error",
     "traceback": [
      "\u001b[0;31m---------------------------------------------------------------------------\u001b[0m",
      "\u001b[0;31mImportError\u001b[0m                               Traceback (most recent call last)",
      "\u001b[0;32m<ipython-input-2-ce7b79c8e76e>\u001b[0m in \u001b[0;36m<module>\u001b[0;34m()\u001b[0m\n\u001b[1;32m      2\u001b[0m \u001b[0;31m####### PACKAGES ####################\u001b[0m\u001b[0;34m\u001b[0m\u001b[0;34m\u001b[0m\u001b[0m\n\u001b[1;32m      3\u001b[0m \u001b[0;32mimport\u001b[0m \u001b[0mnumpy\u001b[0m \u001b[0;32mas\u001b[0m \u001b[0mnp\u001b[0m\u001b[0;34m\u001b[0m\u001b[0m\n\u001b[0;32m----> 4\u001b[0;31m \u001b[0;32mimport\u001b[0m \u001b[0mpanda\u001b[0m \u001b[0;32mas\u001b[0m \u001b[0mpd\u001b[0m\u001b[0;34m\u001b[0m\u001b[0m\n\u001b[0m",
      "\u001b[0;31mImportError\u001b[0m: No module named panda"
     ]
    }
   ],
   "source": [
    "#######SCIENTIFIC CALCULATORS########\n",
    "####### PACKAGES ####################\n",
    "import numpy as np \n",
    "import pandas as pd"
   ]
  },
  {
   "cell_type": "code",
   "execution_count": 3,
   "metadata": {},
   "outputs": [],
   "source": [
    "# A number raised to itself\n",
    "def raisedtosame(x):\n",
    "    if x>0:\n",
    "        x=x**x\n",
    "        print('answer is',x)\n",
    "    else:\n",
    "        print('Invalid input')"
   ]
  },
  {
   "cell_type": "code",
   "execution_count": null,
   "metadata": {},
   "outputs": [],
   "source": [
    "# Square of number\n",
    "def squares(x):\n",
    "    x=x*x\n",
    "    print('answer is:',x)\n",
    "    return x"
   ]
  },
  {
   "cell_type": "code",
   "execution_count": null,
   "metadata": {},
   "outputs": [],
   "source": [
    "# Cube_sum\n",
    "def sum_cubes(x):\n",
    "    x=x*x*(x+1)*(x+1)/4\n",
    "    print('in sum_cubes(x):z=',x)\n",
    "    return x"
   ]
  },
  {
   "cell_type": "code",
   "execution_count": null,
   "metadata": {},
   "outputs": [],
   "source": [
    "# Square_sum\n",
    "def sum_squares(n):\n",
    "    n=n*(n+1)*(2*n+1)/6\n",
    "    print('for sum of cubes:S(n)=',n)\n",
    "    return n"
   ]
  },
  {
   "cell_type": "code",
   "execution_count": null,
   "metadata": {},
   "outputs": [],
   "source": [
    "# Natural_number\n",
    "def sum_linear(n):\n",
    "    n=n*(n+1)/2\n",
    "    print('for sum of natural numbers:S(n)=',n)\n",
    "    return(n)"
   ]
  },
  {
   "cell_type": "code",
   "execution_count": null,
   "metadata": {},
   "outputs": [],
   "source": [
    "# sin and cos :)\n",
    "def sin(x):\n",
    "    \"\"\"let user input value of x in degrees and not in radians\"\"\"\n",
    "    pi=3.14\n",
    "    x=x*pi/180\n",
    "    return np.sin(x)\n",
    "def cos(x):\n",
    "    \"\"\"value of angle only in degrees\"\"\"\n",
    "    pi=3.14\n",
    "    x=x*pi/180\n",
    "    return np.cos(x) "
   ]
  },
  {
   "cell_type": "code",
   "execution_count": null,
   "metadata": {},
   "outputs": [],
   "source": [
    "# Body_algebric       ### ###### #########\n",
    "option=str(input('press a for algebric calculator and t for trigonometric calculator:\\n'))\n",
    "if option=='a':\n",
    "    print('1]Press (1)for addition')\n",
    "    print('2]Press(2)for subtraction')    \n",
    "    print('3]Press(3)for multiplication')\n",
    "    print('4]Press(4)for division')\n",
    "    print('5]Press(5)for sum of cubes')\n",
    "    print('6]Press(6)for sum of squares')\n",
    "    print('7]Press(7)for sum of natural numbers')\n",
    "    print('8]Press(8)for cube root of any number')\n",
    "    print('9]Press(9)for square root of any number')\n",
    "    print('1o]Press(10)for square of any number')  \n",
    "    print('11]Press(11)for a number raised to itself')\n",
    "    x=int(input('Please enter your choice:\\n'))\n",
    "    if x==1:\n",
    "        print('enter the values of a and b')\n",
    "        a=int(input('what is a?'))\n",
    "        b=int(input('what is b?'))\n",
    "        sum=a+b\n",
    "        print(sum)\n",
    "    if x==3:\n",
    "        print('enter the values of a and b')\n",
    "        a=int(input('what is a?'))\n",
    "        b=int(input('what is b?'))\n",
    "        multiply=a*b\n",
    "        print(multiply)\n",
    "    if x==2:\n",
    "        print('enter the values of a and b')\n",
    "        a=int(input('what is a?'))\n",
    "        b=int(input('what is b?'))\n",
    "        sub=a-b\n",
    "        print(sub)\n",
    "    if x==4:\n",
    "        print('enter the values of a and b')\n",
    "        a=int(input('what is a?'))\n",
    "        b=int(input('what is b?'))\n",
    "        div=a/b\n",
    "        print(div)\n",
    "    if x==5:\n",
    "      y=int(input('Enter the value of y:\\n'))\n",
    "      sum_cubes(y)\n",
    "    if x==6:\n",
    "      y=int(input('Enter the value of y:\\n'))\n",
    "      sum_squares(y)\n",
    "    if x==7:\n",
    "       y=int(input('Enter the value of y:\\n'))\n",
    "       sum_linear(y)\n",
    "    if x==8:\n",
    "        n=int(input(\"enter the value of n:\\n\"))\n",
    "        x=0\n",
    "        if n>0:\n",
    "        while x**3<n:\n",
    "          x=x+0.01\n",
    "        print(x)    \n",
    "        if n<0:\n",
    "            s=-1*n\n",
    "            while x**3<s:\n",
    "            x=x+0.01\n",
    "            print(-1*x)\n",
    "    if x==9:\n",
    "        n=int(input(\"enter the value of n:\\n\"))\n",
    "        x=0\n",
    "        while x**2<n:\n",
    "            x=x+0.01\n",
    "        print(x)    \n",
    "    if x==10:\n",
    "        sq=float(input('Enter the value of any number:'))\n",
    "        squares(sq)\n",
    "        print(squares(sq))\n",
    "    if x==11:\n",
    "        rise=float(input('Enter value of the number for which you choose this operation:'))\n",
    "        raisedtosame(rise)"
   ]
  },
  {
   "cell_type": "code",
   "execution_count": null,
   "metadata": {},
   "outputs": [],
   "source": [
    "# Body_trigonometric\n",
    "if option=='t':\n",
    "    print(\"Press 1a] for sine function\")\n",
    "    print(\"Press 2a]for cosine function\") \n",
    "    z=str(input('Please enter your choice:\\n'))\n",
    "    if z=='1a':\n",
    "        alpha=float(input('Enter the value of angle in degrees only,please'))\n",
    "        sin(alpha)\n",
    "        print(sin(alpha))\n",
    "    if z=='2a':\n",
    "        beta=float(input('Enter the value of angle in degrees only,please:'))\n",
    "        cos(beta)\n",
    "        print(cos(beta))\n",
    "print('\\n')        \n",
    "print('THANKS A LOT!!!')      \n"
   ]
  }
 ],
 "metadata": {
  "kernelspec": {
   "display_name": "Python 3",
   "language": "python",
   "name": "python3"
  },
  "language_info": {
   "codemirror_mode": {
    "name": "ipython",
    "version": 2
   },
   "file_extension": ".py",
   "mimetype": "text/x-python",
   "name": "python",
   "nbconvert_exporter": "python",
   "pygments_lexer": "ipython2",
   "version": "2.7.12"
  }
 },
 "nbformat": 4,
 "nbformat_minor": 2
}
