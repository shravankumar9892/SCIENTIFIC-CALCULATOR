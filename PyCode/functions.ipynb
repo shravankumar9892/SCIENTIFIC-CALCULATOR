{
 "cells": [
  {
   "cell_type": "code",
   "execution_count": null,
   "metadata": {},
   "outputs": [],
   "source": [
    "########### This consists of our unique functions :)  ###########\n",
    "# _____________Packages______________\n",
    "import numpy as np         \n",
    "from math import *"
   ]
  },
  {
   "cell_type": "code",
   "execution_count": null,
   "metadata": {},
   "outputs": [],
   "source": [
    "# ____________ Functions ____________\n",
    "def squares(x):\n",
    "    return x*x\n",
    "def sum_cubes(x):\n",
    "    return x*x*(x+1)*(x+1)/4\n",
    "def sum_squares(n):\n",
    "    return n*(n+1)*(2*n+1)/6\n",
    "def sum_linear(n):\n",
    "    return n*(n+1)/2"
   ]
  }
 ],
 "metadata": {
  "kernelspec": {
   "display_name": "Python 3",
   "language": "python",
   "name": "python3"
  },
  "language_info": {
   "codemirror_mode": {
    "name": "ipython",
    "version": 2
   },
   "file_extension": ".py",
   "mimetype": "text/x-python",
   "name": "python",
   "nbconvert_exporter": "python",
   "pygments_lexer": "ipython2",
   "version": "2.7.15rc1"
  }
 },
 "nbformat": 4,
 "nbformat_minor": 2
}
